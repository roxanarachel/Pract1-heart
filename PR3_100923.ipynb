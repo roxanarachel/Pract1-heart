{
 "cells": [
  {
   "cell_type": "markdown",
   "id": "0a67d350-34cf-423a-8a28-ef89aa928bb8",
   "metadata": {
    "tags": []
   },
   "source": [
    "# ***Práctica 3*** : _Tarea de regresión_ #"
   ]
  },
  {
   "cell_type": "markdown",
   "id": "5f182820-0012-4861-bea0-09d32f842406",
   "metadata": {
    "tags": []
   },
   "source": [
    "## ***Dataset:*** _Conjunto de datos de obesidad._ ##"
   ]
  },
  {
   "cell_type": "markdown",
   "id": "ad50a016-b31d-4325-b13f-03facd7a0d5e",
   "metadata": {
    "tags": []
   },
   "source": [
    "### ***Alumna: Roxana Rachel Valencia Ortega*** ###"
   ]
  },
  {
   "cell_type": "code",
   "execution_count": 195,
   "id": "49fb4429-233a-455a-ae55-f3cb40451143",
   "metadata": {
    "tags": []
   },
   "outputs": [],
   "source": [
    "import pandas as pd\n",
    "import numpy as np\n",
    "import matplotlib.pyplot as plt\n",
    "import seaborn as sns\n",
    "import statsmodels.api as sm"
   ]
  },
  {
   "cell_type": "code",
   "execution_count": 196,
   "id": "d779cf28-932c-4882-bc3b-b9562a15bbbe",
   "metadata": {
    "tags": []
   },
   "outputs": [],
   "source": [
    "from sklearn.preprocessing import LabelEncoder\n",
    "from sklearn.model_selection import train_test_split\n",
    "from sklearn.linear_model import LinearRegression\n",
    "from sklearn.model_selection import cross_val_predict\n",
    "from sklearn.model_selection import cross_val_score\n",
    "from sklearn.metrics import mean_squared_error, r2_score\n",
    "from sklearn.metrics import mean_squared_error"
   ]
  },
  {
   "cell_type": "markdown",
   "id": "0a70d560-f4d4-4c94-972d-12df53af1715",
   "metadata": {},
   "source": [
    "### Impresión de datos con pandas ###"
   ]
  },
  {
   "cell_type": "code",
   "execution_count": 197,
   "id": "805c886f-bb42-495e-97d6-0d2c4d597f27",
   "metadata": {
    "tags": []
   },
   "outputs": [
    {
     "name": "stdout",
     "output_type": "stream",
     "text": [
      "      ID  Age  Gender  Height  Weight   BMI          Label\n",
      "0      1   25    Male     175      80  25.3  Normal Weight\n",
      "1      2   30  Female     160      60  22.5  Normal Weight\n",
      "2      3   35    Male     180      90  27.3     Overweight\n",
      "3      4   40  Female     150      50  20.0    Underweight\n",
      "4      5   45    Male     190     100  31.2          Obese\n",
      "..   ...  ...     ...     ...     ...   ...            ...\n",
      "103  106   11    Male     175      10   3.9    Underweight\n",
      "104  107   16  Female     160      10   3.9    Underweight\n",
      "105  108   21    Male     180      15   5.6    Underweight\n",
      "106  109   26  Female     150      15   5.6    Underweight\n",
      "107  110   31    Male     190      20   8.3    Underweight\n",
      "\n",
      "[108 rows x 7 columns]\n"
     ]
    }
   ],
   "source": [
    "df = pd.read_csv(r'obesity.csv')\n",
    "print(df)"
   ]
  },
  {
   "cell_type": "markdown",
   "id": "36ed828a-bc7b-4911-aa39-67aa214c27f6",
   "metadata": {},
   "source": [
    "### Estadísticas descriptivas ###"
   ]
  },
  {
   "cell_type": "markdown",
   "id": "5b80fab4-d7ab-4b90-8c5d-e0f74b2cf4ee",
   "metadata": {
    "tags": []
   },
   "source": [
    "Este tipo de código nos permite comprender el conjunto de datos."
   ]
  },
  {
   "cell_type": "code",
   "execution_count": 198,
   "id": "3e3dc2e8-18e5-4307-9467-fc00851f2e46",
   "metadata": {},
   "outputs": [
    {
     "data": {
      "text/html": [
       "<div>\n",
       "<style scoped>\n",
       "    .dataframe tbody tr th:only-of-type {\n",
       "        vertical-align: middle;\n",
       "    }\n",
       "\n",
       "    .dataframe tbody tr th {\n",
       "        vertical-align: top;\n",
       "    }\n",
       "\n",
       "    .dataframe thead th {\n",
       "        text-align: right;\n",
       "    }\n",
       "</style>\n",
       "<table border=\"1\" class=\"dataframe\">\n",
       "  <thead>\n",
       "    <tr style=\"text-align: right;\">\n",
       "      <th></th>\n",
       "      <th>ID</th>\n",
       "      <th>Age</th>\n",
       "      <th>Height</th>\n",
       "      <th>Weight</th>\n",
       "      <th>BMI</th>\n",
       "    </tr>\n",
       "  </thead>\n",
       "  <tbody>\n",
       "    <tr>\n",
       "      <th>count</th>\n",
       "      <td>108.000000</td>\n",
       "      <td>108.000000</td>\n",
       "      <td>108.000000</td>\n",
       "      <td>108.000000</td>\n",
       "      <td>108.000000</td>\n",
       "    </tr>\n",
       "    <tr>\n",
       "      <th>mean</th>\n",
       "      <td>56.046296</td>\n",
       "      <td>46.555556</td>\n",
       "      <td>166.574074</td>\n",
       "      <td>59.490741</td>\n",
       "      <td>20.549074</td>\n",
       "    </tr>\n",
       "    <tr>\n",
       "      <th>std</th>\n",
       "      <td>31.917939</td>\n",
       "      <td>24.720620</td>\n",
       "      <td>27.873615</td>\n",
       "      <td>28.856233</td>\n",
       "      <td>7.583818</td>\n",
       "    </tr>\n",
       "    <tr>\n",
       "      <th>min</th>\n",
       "      <td>1.000000</td>\n",
       "      <td>11.000000</td>\n",
       "      <td>120.000000</td>\n",
       "      <td>10.000000</td>\n",
       "      <td>3.900000</td>\n",
       "    </tr>\n",
       "    <tr>\n",
       "      <th>25%</th>\n",
       "      <td>28.750000</td>\n",
       "      <td>27.000000</td>\n",
       "      <td>140.000000</td>\n",
       "      <td>35.000000</td>\n",
       "      <td>16.700000</td>\n",
       "    </tr>\n",
       "    <tr>\n",
       "      <th>50%</th>\n",
       "      <td>56.500000</td>\n",
       "      <td>42.500000</td>\n",
       "      <td>175.000000</td>\n",
       "      <td>55.000000</td>\n",
       "      <td>21.200000</td>\n",
       "    </tr>\n",
       "    <tr>\n",
       "      <th>75%</th>\n",
       "      <td>83.250000</td>\n",
       "      <td>59.250000</td>\n",
       "      <td>190.000000</td>\n",
       "      <td>85.000000</td>\n",
       "      <td>26.100000</td>\n",
       "    </tr>\n",
       "    <tr>\n",
       "      <th>max</th>\n",
       "      <td>110.000000</td>\n",
       "      <td>112.000000</td>\n",
       "      <td>210.000000</td>\n",
       "      <td>120.000000</td>\n",
       "      <td>37.200000</td>\n",
       "    </tr>\n",
       "  </tbody>\n",
       "</table>\n",
       "</div>"
      ],
      "text/plain": [
       "               ID         Age      Height      Weight         BMI\n",
       "count  108.000000  108.000000  108.000000  108.000000  108.000000\n",
       "mean    56.046296   46.555556  166.574074   59.490741   20.549074\n",
       "std     31.917939   24.720620   27.873615   28.856233    7.583818\n",
       "min      1.000000   11.000000  120.000000   10.000000    3.900000\n",
       "25%     28.750000   27.000000  140.000000   35.000000   16.700000\n",
       "50%     56.500000   42.500000  175.000000   55.000000   21.200000\n",
       "75%     83.250000   59.250000  190.000000   85.000000   26.100000\n",
       "max    110.000000  112.000000  210.000000  120.000000   37.200000"
      ]
     },
     "execution_count": 198,
     "metadata": {},
     "output_type": "execute_result"
    }
   ],
   "source": [
    "df.describe()"
   ]
  },
  {
   "cell_type": "markdown",
   "id": "520e81f2-6b44-4293-8370-7d0459bbf743",
   "metadata": {
    "tags": []
   },
   "source": [
    "### Pruebas de tipo de datos ###"
   ]
  },
  {
   "cell_type": "markdown",
   "id": "b21b94a1-2f58-407b-931b-a33409796247",
   "metadata": {},
   "source": [
    "Es necesario realizar una prueba de los datos antes de procesarlos, por lo que no todos los datos sea posibles procesar."
   ]
  },
  {
   "cell_type": "code",
   "execution_count": 199,
   "id": "27b6a3c7-a6de-4bea-8b6f-9685e416bbc5",
   "metadata": {
    "tags": []
   },
   "outputs": [
    {
     "data": {
      "text/plain": [
       "ID          int64\n",
       "Age         int64\n",
       "Gender     object\n",
       "Height      int64\n",
       "Weight      int64\n",
       "BMI       float64\n",
       "Label      object\n",
       "dtype: object"
      ]
     },
     "execution_count": 199,
     "metadata": {},
     "output_type": "execute_result"
    }
   ],
   "source": [
    "df.dtypes"
   ]
  },
  {
   "cell_type": "markdown",
   "id": "0357ac3f-de48-4a06-bc45-cc2ab5596832",
   "metadata": {
    "tags": []
   },
   "source": [
    "Con ayuda de este código nos percatamos que todas las columnas están listas para usar, en excepto gender (object), lo que significa que no es posible utilizar ese tipo de datos directamente en los cálculos."
   ]
  },
  {
   "cell_type": "markdown",
   "id": "4e057989-58db-4bae-8bfd-5efa3fb979e4",
   "metadata": {
    "tags": []
   },
   "source": [
    "### Técnica de modificación ###\n",
    "Se codificará la columna (Gender) a valores binarios, utilizando LabelEncoder."
   ]
  },
  {
   "cell_type": "code",
   "execution_count": 200,
   "id": "537d6c28-8c4c-46bd-8fd4-2b070a7bb197",
   "metadata": {
    "tags": []
   },
   "outputs": [
    {
     "data": {
      "text/html": [
       "<div>\n",
       "<style scoped>\n",
       "    .dataframe tbody tr th:only-of-type {\n",
       "        vertical-align: middle;\n",
       "    }\n",
       "\n",
       "    .dataframe tbody tr th {\n",
       "        vertical-align: top;\n",
       "    }\n",
       "\n",
       "    .dataframe thead th {\n",
       "        text-align: right;\n",
       "    }\n",
       "</style>\n",
       "<table border=\"1\" class=\"dataframe\">\n",
       "  <thead>\n",
       "    <tr style=\"text-align: right;\">\n",
       "      <th></th>\n",
       "      <th>ID</th>\n",
       "      <th>Age</th>\n",
       "      <th>Gender</th>\n",
       "      <th>Height</th>\n",
       "      <th>Weight</th>\n",
       "      <th>BMI</th>\n",
       "      <th>Label</th>\n",
       "    </tr>\n",
       "  </thead>\n",
       "  <tbody>\n",
       "    <tr>\n",
       "      <th>0</th>\n",
       "      <td>1</td>\n",
       "      <td>25</td>\n",
       "      <td>1</td>\n",
       "      <td>175</td>\n",
       "      <td>80</td>\n",
       "      <td>25.3</td>\n",
       "      <td>Normal Weight</td>\n",
       "    </tr>\n",
       "    <tr>\n",
       "      <th>1</th>\n",
       "      <td>2</td>\n",
       "      <td>30</td>\n",
       "      <td>0</td>\n",
       "      <td>160</td>\n",
       "      <td>60</td>\n",
       "      <td>22.5</td>\n",
       "      <td>Normal Weight</td>\n",
       "    </tr>\n",
       "    <tr>\n",
       "      <th>2</th>\n",
       "      <td>3</td>\n",
       "      <td>35</td>\n",
       "      <td>1</td>\n",
       "      <td>180</td>\n",
       "      <td>90</td>\n",
       "      <td>27.3</td>\n",
       "      <td>Overweight</td>\n",
       "    </tr>\n",
       "    <tr>\n",
       "      <th>3</th>\n",
       "      <td>4</td>\n",
       "      <td>40</td>\n",
       "      <td>0</td>\n",
       "      <td>150</td>\n",
       "      <td>50</td>\n",
       "      <td>20.0</td>\n",
       "      <td>Underweight</td>\n",
       "    </tr>\n",
       "    <tr>\n",
       "      <th>4</th>\n",
       "      <td>5</td>\n",
       "      <td>45</td>\n",
       "      <td>1</td>\n",
       "      <td>190</td>\n",
       "      <td>100</td>\n",
       "      <td>31.2</td>\n",
       "      <td>Obese</td>\n",
       "    </tr>\n",
       "    <tr>\n",
       "      <th>...</th>\n",
       "      <td>...</td>\n",
       "      <td>...</td>\n",
       "      <td>...</td>\n",
       "      <td>...</td>\n",
       "      <td>...</td>\n",
       "      <td>...</td>\n",
       "      <td>...</td>\n",
       "    </tr>\n",
       "    <tr>\n",
       "      <th>103</th>\n",
       "      <td>106</td>\n",
       "      <td>11</td>\n",
       "      <td>1</td>\n",
       "      <td>175</td>\n",
       "      <td>10</td>\n",
       "      <td>3.9</td>\n",
       "      <td>Underweight</td>\n",
       "    </tr>\n",
       "    <tr>\n",
       "      <th>104</th>\n",
       "      <td>107</td>\n",
       "      <td>16</td>\n",
       "      <td>0</td>\n",
       "      <td>160</td>\n",
       "      <td>10</td>\n",
       "      <td>3.9</td>\n",
       "      <td>Underweight</td>\n",
       "    </tr>\n",
       "    <tr>\n",
       "      <th>105</th>\n",
       "      <td>108</td>\n",
       "      <td>21</td>\n",
       "      <td>1</td>\n",
       "      <td>180</td>\n",
       "      <td>15</td>\n",
       "      <td>5.6</td>\n",
       "      <td>Underweight</td>\n",
       "    </tr>\n",
       "    <tr>\n",
       "      <th>106</th>\n",
       "      <td>109</td>\n",
       "      <td>26</td>\n",
       "      <td>0</td>\n",
       "      <td>150</td>\n",
       "      <td>15</td>\n",
       "      <td>5.6</td>\n",
       "      <td>Underweight</td>\n",
       "    </tr>\n",
       "    <tr>\n",
       "      <th>107</th>\n",
       "      <td>110</td>\n",
       "      <td>31</td>\n",
       "      <td>1</td>\n",
       "      <td>190</td>\n",
       "      <td>20</td>\n",
       "      <td>8.3</td>\n",
       "      <td>Underweight</td>\n",
       "    </tr>\n",
       "  </tbody>\n",
       "</table>\n",
       "<p>108 rows × 7 columns</p>\n",
       "</div>"
      ],
      "text/plain": [
       "      ID  Age  Gender  Height  Weight   BMI          Label\n",
       "0      1   25       1     175      80  25.3  Normal Weight\n",
       "1      2   30       0     160      60  22.5  Normal Weight\n",
       "2      3   35       1     180      90  27.3     Overweight\n",
       "3      4   40       0     150      50  20.0    Underweight\n",
       "4      5   45       1     190     100  31.2          Obese\n",
       "..   ...  ...     ...     ...     ...   ...            ...\n",
       "103  106   11       1     175      10   3.9    Underweight\n",
       "104  107   16       0     160      10   3.9    Underweight\n",
       "105  108   21       1     180      15   5.6    Underweight\n",
       "106  109   26       0     150      15   5.6    Underweight\n",
       "107  110   31       1     190      20   8.3    Underweight\n",
       "\n",
       "[108 rows x 7 columns]"
      ]
     },
     "execution_count": 200,
     "metadata": {},
     "output_type": "execute_result"
    }
   ],
   "source": [
    "le= LabelEncoder()\n",
    "df['Gender'] = le.fit_transform(df['Gender'])\n",
    "df"
   ]
  },
  {
   "cell_type": "markdown",
   "id": "0506d22c-53d9-4d1b-aff0-5e3009e0ed10",
   "metadata": {},
   "source": [
    "Utilizando el concepto de correlación se refiere a la dependencia de los valores de una columna con valores de otra columna, el cual representa como el cambio en una columna afectara a otras columnas. Para este conjunto de datos se tienen columnas que son conceptualmente independientes de otras o son el resultado de un cálculo aritmético entre otras columnas, que se verán afectadas. Así mismo no obtendremos buenos resultados. En su lugar, eliminaremos solamente la columna ID."
   ]
  },
  {
   "cell_type": "code",
   "execution_count": 201,
   "id": "543c4c2a-4d1e-462b-8db5-6678ef3130b5",
   "metadata": {
    "tags": []
   },
   "outputs": [
    {
     "data": {
      "text/html": [
       "<div>\n",
       "<style scoped>\n",
       "    .dataframe tbody tr th:only-of-type {\n",
       "        vertical-align: middle;\n",
       "    }\n",
       "\n",
       "    .dataframe tbody tr th {\n",
       "        vertical-align: top;\n",
       "    }\n",
       "\n",
       "    .dataframe thead th {\n",
       "        text-align: right;\n",
       "    }\n",
       "</style>\n",
       "<table border=\"1\" class=\"dataframe\">\n",
       "  <thead>\n",
       "    <tr style=\"text-align: right;\">\n",
       "      <th></th>\n",
       "      <th>Age</th>\n",
       "      <th>Gender</th>\n",
       "      <th>Height</th>\n",
       "      <th>Weight</th>\n",
       "      <th>BMI</th>\n",
       "      <th>Label</th>\n",
       "    </tr>\n",
       "  </thead>\n",
       "  <tbody>\n",
       "    <tr>\n",
       "      <th>0</th>\n",
       "      <td>25</td>\n",
       "      <td>1</td>\n",
       "      <td>175</td>\n",
       "      <td>80</td>\n",
       "      <td>25.3</td>\n",
       "      <td>Normal Weight</td>\n",
       "    </tr>\n",
       "    <tr>\n",
       "      <th>1</th>\n",
       "      <td>30</td>\n",
       "      <td>0</td>\n",
       "      <td>160</td>\n",
       "      <td>60</td>\n",
       "      <td>22.5</td>\n",
       "      <td>Normal Weight</td>\n",
       "    </tr>\n",
       "    <tr>\n",
       "      <th>2</th>\n",
       "      <td>35</td>\n",
       "      <td>1</td>\n",
       "      <td>180</td>\n",
       "      <td>90</td>\n",
       "      <td>27.3</td>\n",
       "      <td>Overweight</td>\n",
       "    </tr>\n",
       "    <tr>\n",
       "      <th>3</th>\n",
       "      <td>40</td>\n",
       "      <td>0</td>\n",
       "      <td>150</td>\n",
       "      <td>50</td>\n",
       "      <td>20.0</td>\n",
       "      <td>Underweight</td>\n",
       "    </tr>\n",
       "    <tr>\n",
       "      <th>4</th>\n",
       "      <td>45</td>\n",
       "      <td>1</td>\n",
       "      <td>190</td>\n",
       "      <td>100</td>\n",
       "      <td>31.2</td>\n",
       "      <td>Obese</td>\n",
       "    </tr>\n",
       "    <tr>\n",
       "      <th>...</th>\n",
       "      <td>...</td>\n",
       "      <td>...</td>\n",
       "      <td>...</td>\n",
       "      <td>...</td>\n",
       "      <td>...</td>\n",
       "      <td>...</td>\n",
       "    </tr>\n",
       "    <tr>\n",
       "      <th>103</th>\n",
       "      <td>11</td>\n",
       "      <td>1</td>\n",
       "      <td>175</td>\n",
       "      <td>10</td>\n",
       "      <td>3.9</td>\n",
       "      <td>Underweight</td>\n",
       "    </tr>\n",
       "    <tr>\n",
       "      <th>104</th>\n",
       "      <td>16</td>\n",
       "      <td>0</td>\n",
       "      <td>160</td>\n",
       "      <td>10</td>\n",
       "      <td>3.9</td>\n",
       "      <td>Underweight</td>\n",
       "    </tr>\n",
       "    <tr>\n",
       "      <th>105</th>\n",
       "      <td>21</td>\n",
       "      <td>1</td>\n",
       "      <td>180</td>\n",
       "      <td>15</td>\n",
       "      <td>5.6</td>\n",
       "      <td>Underweight</td>\n",
       "    </tr>\n",
       "    <tr>\n",
       "      <th>106</th>\n",
       "      <td>26</td>\n",
       "      <td>0</td>\n",
       "      <td>150</td>\n",
       "      <td>15</td>\n",
       "      <td>5.6</td>\n",
       "      <td>Underweight</td>\n",
       "    </tr>\n",
       "    <tr>\n",
       "      <th>107</th>\n",
       "      <td>31</td>\n",
       "      <td>1</td>\n",
       "      <td>190</td>\n",
       "      <td>20</td>\n",
       "      <td>8.3</td>\n",
       "      <td>Underweight</td>\n",
       "    </tr>\n",
       "  </tbody>\n",
       "</table>\n",
       "<p>108 rows × 6 columns</p>\n",
       "</div>"
      ],
      "text/plain": [
       "     Age  Gender  Height  Weight   BMI          Label\n",
       "0     25       1     175      80  25.3  Normal Weight\n",
       "1     30       0     160      60  22.5  Normal Weight\n",
       "2     35       1     180      90  27.3     Overweight\n",
       "3     40       0     150      50  20.0    Underweight\n",
       "4     45       1     190     100  31.2          Obese\n",
       "..   ...     ...     ...     ...   ...            ...\n",
       "103   11       1     175      10   3.9    Underweight\n",
       "104   16       0     160      10   3.9    Underweight\n",
       "105   21       1     180      15   5.6    Underweight\n",
       "106   26       0     150      15   5.6    Underweight\n",
       "107   31       1     190      20   8.3    Underweight\n",
       "\n",
       "[108 rows x 6 columns]"
      ]
     },
     "execution_count": 201,
     "metadata": {},
     "output_type": "execute_result"
    }
   ],
   "source": [
    "df.drop(labels='ID',axis=1,inplace=True)\n",
    "df"
   ]
  },
  {
   "cell_type": "markdown",
   "id": "c3de04f2-c59d-459d-aa76-0164c4cd59c7",
   "metadata": {
    "tags": []
   },
   "source": [
    "### Variables ### \n",
    "Se definen las variables dependientes e independientes."
   ]
  },
  {
   "cell_type": "code",
   "execution_count": 231,
   "id": "d5feba5f-d3fd-4a5e-a131-d4c59c2a8b1a",
   "metadata": {
    "tags": []
   },
   "outputs": [],
   "source": [
    "y=df['BMI']#Variables dependiente\n",
    "x1=df['Age'] #Variable independiente"
   ]
  },
  {
   "cell_type": "markdown",
   "id": "ef0b02d3-3552-43f3-a850-1f1c264dfab0",
   "metadata": {
    "tags": []
   },
   "source": [
    "### Exploración de datos ###"
   ]
  },
  {
   "cell_type": "code",
   "execution_count": 230,
   "id": "eace3bf6-cf5c-4f80-b36d-804ebec70ac6",
   "metadata": {
    "tags": []
   },
   "outputs": [
    {
     "data": {
      "image/png": "[encoded data removed]",
      "text/plain": [
       "<Figure size 640x480 with 1 Axes>"
      ]
     },
     "metadata": {},
     "output_type": "display_data"
    }
   ],
   "source": [
    "plt.scatter(x1, y, c='r', label='Points')\n",
    "plt.xlabel('Age', fontsize = 10)\n",
    "plt.ylabel('BMI', fontsize = 10)\n",
    "plt.gca().yaxis.set_major_formatter('{:.1f}'.format)\n",
    "plt.show()"
   ]
  },
  {
   "cell_type": "markdown",
   "id": "2a9ebadf-078c-42a7-83d6-e4bc530c5aeb",
   "metadata": {},
   "source": [
    "Esta gráfica de dispersión nos permite visualizar la distribución de los valores, se aprecia un ligero aumento en el nivel medio de BMI en personas con diagnóstico de sobrepeso en el rango de edad de 20 a 60 años. Esto sugiere una posible correlación entre Age y BMI."
   ]
  },
  {
   "cell_type": "markdown",
   "id": "7623327e-7e34-4603-bcb1-a6ac28afa11e",
   "metadata": {
    "tags": []
   },
   "source": [
    "### Regresión lineal ###\n",
    "\n",
    "El siguiente codigo nos permite sumar el término desesgo o intersección."
   ]
  },
  {
   "cell_type": "code",
   "execution_count": 204,
   "id": "8ac33d1d-4588-46e0-ace1-5de0bd6722c7",
   "metadata": {
    "tags": []
   },
   "outputs": [
    {
     "data": {
      "text/html": [
       "<table class=\"simpletable\">\n",
       "<caption>OLS Regression Results</caption>\n",
       "<tr>\n",
       "  <th>Dep. Variable:</th>           <td>BMI</td>       <th>  R-squared:         </th> <td>   0.225</td>\n",
       "</tr>\n",
       "<tr>\n",
       "  <th>Model:</th>                   <td>OLS</td>       <th>  Adj. R-squared:    </th> <td>   0.218</td>\n",
       "</tr>\n",
       "<tr>\n",
       "  <th>Method:</th>             <td>Least Squares</td>  <th>  F-statistic:       </th> <td>   30.75</td>\n",
       "</tr>\n",
       "<tr>\n",
       "  <th>Date:</th>             <td>Mon, 09 Oct 2023</td> <th>  Prob (F-statistic):</th> <td>2.17e-07</td>\n",
       "</tr>\n",
       "<tr>\n",
       "  <th>Time:</th>                 <td>22:59:39</td>     <th>  Log-Likelihood:    </th> <td> -357.80</td>\n",
       "</tr>\n",
       "<tr>\n",
       "  <th>No. Observations:</th>      <td>   108</td>      <th>  AIC:               </th> <td>   719.6</td>\n",
       "</tr>\n",
       "<tr>\n",
       "  <th>Df Residuals:</th>          <td>   106</td>      <th>  BIC:               </th> <td>   725.0</td>\n",
       "</tr>\n",
       "<tr>\n",
       "  <th>Df Model:</th>              <td>     1</td>      <th>                     </th>     <td> </td>   \n",
       "</tr>\n",
       "<tr>\n",
       "  <th>Covariance Type:</th>      <td>nonrobust</td>    <th>                     </th>     <td> </td>   \n",
       "</tr>\n",
       "</table>\n",
       "<table class=\"simpletable\">\n",
       "<tr>\n",
       "    <td></td>       <th>coef</th>     <th>std err</th>      <th>t</th>      <th>P>|t|</th>  <th>[0.025</th>    <th>0.975]</th>  \n",
       "</tr>\n",
       "<tr>\n",
       "  <th>const</th> <td>   13.7766</td> <td>    1.381</td> <td>    9.973</td> <td> 0.000</td> <td>   11.038</td> <td>   16.515</td>\n",
       "</tr>\n",
       "<tr>\n",
       "  <th>Age</th>   <td>    0.1455</td> <td>    0.026</td> <td>    5.545</td> <td> 0.000</td> <td>    0.093</td> <td>    0.197</td>\n",
       "</tr>\n",
       "</table>\n",
       "<table class=\"simpletable\">\n",
       "<tr>\n",
       "  <th>Omnibus:</th>       <td> 6.877</td> <th>  Durbin-Watson:     </th> <td>   1.531</td>\n",
       "</tr>\n",
       "<tr>\n",
       "  <th>Prob(Omnibus):</th> <td> 0.032</td> <th>  Jarque-Bera (JB):  </th> <td>   4.063</td>\n",
       "</tr>\n",
       "<tr>\n",
       "  <th>Skew:</th>          <td>-0.288</td> <th>  Prob(JB):          </th> <td>   0.131</td>\n",
       "</tr>\n",
       "<tr>\n",
       "  <th>Kurtosis:</th>      <td> 2.244</td> <th>  Cond. No.          </th> <td>    113.</td>\n",
       "</tr>\n",
       "</table><br/><br/>Notes:<br/>[1] Standard Errors assume that the covariance matrix of the errors is correctly specified."
      ],
      "text/latex": [
       "\\begin{center}\n",
       "\\begin{tabular}{lclc}\n",
       "\\toprule\n",
       "\\textbf{Dep. Variable:}    &       BMI        & \\textbf{  R-squared:         } &     0.225   \\\\\n",
       "\\textbf{Model:}            &       OLS        & \\textbf{  Adj. R-squared:    } &     0.218   \\\\\n",
       "\\textbf{Method:}           &  Least Squares   & \\textbf{  F-statistic:       } &     30.75   \\\\\n",
       "\\textbf{Date:}             & Mon, 09 Oct 2023 & \\textbf{  Prob (F-statistic):} &  2.17e-07   \\\\\n",
       "\\textbf{Time:}             &     22:59:39     & \\textbf{  Log-Likelihood:    } &   -357.80   \\\\\n",
       "\\textbf{No. Observations:} &         108      & \\textbf{  AIC:               } &     719.6   \\\\\n",
       "\\textbf{Df Residuals:}     &         106      & \\textbf{  BIC:               } &     725.0   \\\\\n",
       "\\textbf{Df Model:}         &           1      & \\textbf{                     } &             \\\\\n",
       "\\textbf{Covariance Type:}  &    nonrobust     & \\textbf{                     } &             \\\\\n",
       "\\bottomrule\n",
       "\\end{tabular}\n",
       "\\begin{tabular}{lcccccc}\n",
       "               & \\textbf{coef} & \\textbf{std err} & \\textbf{t} & \\textbf{P$> |$t$|$} & \\textbf{[0.025} & \\textbf{0.975]}  \\\\\n",
       "\\midrule\n",
       "\\textbf{const} &      13.7766  &        1.381     &     9.973  &         0.000        &       11.038    &       16.515     \\\\\n",
       "\\textbf{Age}   &       0.1455  &        0.026     &     5.545  &         0.000        &        0.093    &        0.197     \\\\\n",
       "\\bottomrule\n",
       "\\end{tabular}\n",
       "\\begin{tabular}{lclc}\n",
       "\\textbf{Omnibus:}       &  6.877 & \\textbf{  Durbin-Watson:     } &    1.531  \\\\\n",
       "\\textbf{Prob(Omnibus):} &  0.032 & \\textbf{  Jarque-Bera (JB):  } &    4.063  \\\\\n",
       "\\textbf{Skew:}          & -0.288 & \\textbf{  Prob(JB):          } &    0.131  \\\\\n",
       "\\textbf{Kurtosis:}      &  2.244 & \\textbf{  Cond. No.          } &     113.  \\\\\n",
       "\\bottomrule\n",
       "\\end{tabular}\n",
       "%\\caption{OLS Regression Results}\n",
       "\\end{center}\n",
       "\n",
       "Notes: \\newline\n",
       " [1] Standard Errors assume that the covariance matrix of the errors is correctly specified."
      ],
      "text/plain": [
       "<class 'statsmodels.iolib.summary.Summary'>\n",
       "\"\"\"\n",
       "                            OLS Regression Results                            \n",
       "==============================================================================\n",
       "Dep. Variable:                    BMI   R-squared:                       0.225\n",
       "Model:                            OLS   Adj. R-squared:                  0.218\n",
       "Method:                 Least Squares   F-statistic:                     30.75\n",
       "Date:                Mon, 09 Oct 2023   Prob (F-statistic):           2.17e-07\n",
       "Time:                        22:59:39   Log-Likelihood:                -357.80\n",
       "No. Observations:                 108   AIC:                             719.6\n",
       "Df Residuals:                     106   BIC:                             725.0\n",
       "Df Model:                           1                                         \n",
       "Covariance Type:            nonrobust                                         \n",
       "==============================================================================\n",
       "                 coef    std err          t      P>|t|      [0.025      0.975]\n",
       "------------------------------------------------------------------------------\n",
       "const         13.7766      1.381      9.973      0.000      11.038      16.515\n",
       "Age            0.1455      0.026      5.545      0.000       0.093       0.197\n",
       "==============================================================================\n",
       "Omnibus:                        6.877   Durbin-Watson:                   1.531\n",
       "Prob(Omnibus):                  0.032   Jarque-Bera (JB):                4.063\n",
       "Skew:                          -0.288   Prob(JB):                        0.131\n",
       "Kurtosis:                       2.244   Cond. No.                         113.\n",
       "==============================================================================\n",
       "\n",
       "Notes:\n",
       "[1] Standard Errors assume that the covariance matrix of the errors is correctly specified.\n",
       "\"\"\""
      ]
     },
     "execution_count": 204,
     "metadata": {},
     "output_type": "execute_result"
    }
   ],
   "source": [
    "x=sm.add_constant(x1)\n",
    "results=sm.OLS(y,x).fit()\n",
    "results.summary()"
   ]
  },
  {
   "cell_type": "markdown",
   "id": "fecd8b60-3833-42e8-9c9e-8d58d9bddef8",
   "metadata": {
    "tags": []
   },
   "source": [
    "### Variables ###\n",
    "\n",
    "Se definen las variables dependientes e independientes"
   ]
  },
  {
   "cell_type": "code",
   "execution_count": 234,
   "id": "ec954887-2e6b-489b-91b5-c5ad65e0499c",
   "metadata": {
    "tags": []
   },
   "outputs": [],
   "source": [
    "X=data[['Height','Weight']]#Variables independientes.\n",
    "y=data['BMI']#Variable dependientes."
   ]
  },
  {
   "cell_type": "code",
   "execution_count": 235,
   "id": "036a00d4-5d00-4922-aa35-dae749e631b8",
   "metadata": {
    "tags": []
   },
   "outputs": [],
   "source": [
    "# Divide los datos en conjuntos de entrenamiento y prueba\n",
    "X_train, X_test, y_train, y_test = train_test_split(X, y, test_size=0.2, random_state=42)"
   ]
  },
  {
   "cell_type": "markdown",
   "id": "278949f8-a4e2-4d25-8736-1f3d6f33b968",
   "metadata": {},
   "source": [
    "### Modelado de regresión lineal ###"
   ]
  },
  {
   "cell_type": "code",
   "execution_count": 236,
   "id": "15987040-e04b-469b-a541-b05601b59ae1",
   "metadata": {
    "tags": []
   },
   "outputs": [
    {
     "data": {
      "text/html": [
       "<style>#sk-container-id-10 {color: black;}#sk-container-id-10 pre{padding: 0;}#sk-container-id-10 div.sk-toggleable {background-color: white;}#sk-container-id-10 label.sk-toggleable__label {cursor: pointer;display: block;width: 100%;margin-bottom: 0;padding: 0.3em;box-sizing: border-box;text-align: center;}#sk-container-id-10 label.sk-toggleable__label-arrow:before {content: \"▸\";float: left;margin-right: 0.25em;color: #696969;}#sk-container-id-10 label.sk-toggleable__label-arrow:hover:before {color: black;}#sk-container-id-10 div.sk-estimator:hover label.sk-toggleable__label-arrow:before {color: black;}#sk-container-id-10 div.sk-toggleable__content {max-height: 0;max-width: 0;overflow: hidden;text-align: left;background-color: #f0f8ff;}#sk-container-id-10 div.sk-toggleable__content pre {margin: 0.2em;color: black;border-radius: 0.25em;background-color: #f0f8ff;}#sk-container-id-10 input.sk-toggleable__control:checked~div.sk-toggleable__content {max-height: 200px;max-width: 100%;overflow: auto;}#sk-container-id-10 input.sk-toggleable__control:checked~label.sk-toggleable__label-arrow:before {content: \"▾\";}#sk-container-id-10 div.sk-estimator input.sk-toggleable__control:checked~label.sk-toggleable__label {background-color: #d4ebff;}#sk-container-id-10 div.sk-label input.sk-toggleable__control:checked~label.sk-toggleable__label {background-color: #d4ebff;}#sk-container-id-10 input.sk-hidden--visually {border: 0;clip: rect(1px 1px 1px 1px);clip: rect(1px, 1px, 1px, 1px);height: 1px;margin: -1px;overflow: hidden;padding: 0;position: absolute;width: 1px;}#sk-container-id-10 div.sk-estimator {font-family: monospace;background-color: #f0f8ff;border: 1px dotted black;border-radius: 0.25em;box-sizing: border-box;margin-bottom: 0.5em;}#sk-container-id-10 div.sk-estimator:hover {background-color: #d4ebff;}#sk-container-id-10 div.sk-parallel-item::after {content: \"\";width: 100%;border-bottom: 1px solid gray;flex-grow: 1;}#sk-container-id-10 div.sk-label:hover label.sk-toggleable__label {background-color: #d4ebff;}#sk-container-id-10 div.sk-serial::before {content: \"\";position: absolute;border-left: 1px solid gray;box-sizing: border-box;top: 0;bottom: 0;left: 50%;z-index: 0;}#sk-container-id-10 div.sk-serial {display: flex;flex-direction: column;align-items: center;background-color: white;padding-right: 0.2em;padding-left: 0.2em;position: relative;}#sk-container-id-10 div.sk-item {position: relative;z-index: 1;}#sk-container-id-10 div.sk-parallel {display: flex;align-items: stretch;justify-content: center;background-color: white;position: relative;}#sk-container-id-10 div.sk-item::before, #sk-container-id-10 div.sk-parallel-item::before {content: \"\";position: absolute;border-left: 1px solid gray;box-sizing: border-box;top: 0;bottom: 0;left: 50%;z-index: -1;}#sk-container-id-10 div.sk-parallel-item {display: flex;flex-direction: column;z-index: 1;position: relative;background-color: white;}#sk-container-id-10 div.sk-parallel-item:first-child::after {align-self: flex-end;width: 50%;}#sk-container-id-10 div.sk-parallel-item:last-child::after {align-self: flex-start;width: 50%;}#sk-container-id-10 div.sk-parallel-item:only-child::after {width: 0;}#sk-container-id-10 div.sk-dashed-wrapped {border: 1px dashed gray;margin: 0 0.4em 0.5em 0.4em;box-sizing: border-box;padding-bottom: 0.4em;background-color: white;}#sk-container-id-10 div.sk-label label {font-family: monospace;font-weight: bold;display: inline-block;line-height: 1.2em;}#sk-container-id-10 div.sk-label-container {text-align: center;}#sk-container-id-10 div.sk-container {/* jupyter's `normalize.less` sets `[hidden] { display: none; }` but bootstrap.min.css set `[hidden] { display: none !important; }` so we also need the `!important` here to be able to override the default hidden behavior on the sphinx rendered scikit-learn.org. See: https://github.com/scikit-learn/scikit-learn/issues/21755 */display: inline-block !important;position: relative;}#sk-container-id-10 div.sk-text-repr-fallback {display: none;}</style><div id=\"sk-container-id-10\" class=\"sk-top-container\"><div class=\"sk-text-repr-fallback\"><pre>LinearRegression()</pre><b>In a Jupyter environment, please rerun this cell to show the HTML representation or trust the notebook. <br />On GitHub, the HTML representation is unable to render, please try loading this page with nbviewer.org.</b></div><div class=\"sk-container\" hidden><div class=\"sk-item\"><div class=\"sk-estimator sk-toggleable\"><input class=\"sk-toggleable__control sk-hidden--visually\" id=\"sk-estimator-id-10\" type=\"checkbox\" checked><label for=\"sk-estimator-id-10\" class=\"sk-toggleable__label sk-toggleable__label-arrow\">LinearRegression</label><div class=\"sk-toggleable__content\"><pre>LinearRegression()</pre></div></div></div></div></div>"
      ],
      "text/plain": [
       "LinearRegression()"
      ]
     },
     "execution_count": 236,
     "metadata": {},
     "output_type": "execute_result"
    }
   ],
   "source": [
    "model = LinearRegression()\n",
    "model.fit(X_train, y_train)#Modelo de entrenamiento."
   ]
  },
  {
   "cell_type": "code",
   "execution_count": 246,
   "id": "2ec62c1e-0ad5-4b86-90af-4fd4728e1b70",
   "metadata": {
    "tags": []
   },
   "outputs": [],
   "source": [
    "y_pred = model.predict(X_test)#Conjunto de datos de prueba."
   ]
  },
  {
   "cell_type": "code",
   "execution_count": 238,
   "id": "6da1d0a6-280a-4708-900f-6cc61950f259",
   "metadata": {
    "tags": []
   },
   "outputs": [
    {
     "name": "stdout",
     "output_type": "stream",
     "text": [
      "Mean Squared Error (MSE): 2.619435864668299\n",
      "R-squared (R2): 0.9570721105859615\n"
     ]
    }
   ],
   "source": [
    "mse = mean_squared_error(y_test, y_pred)\n",
    "r2 = r2_score(y_test, y_pred)\n",
    "\n",
    "print(f'Mean Squared Error (MSE): {mse}')\n",
    "print(f'R-squared (R2): {r2}')"
   ]
  },
  {
   "cell_type": "markdown",
   "id": "b1d71862-35ed-49cf-be99-28338134cb38",
   "metadata": {},
   "source": [
    "Estas metricas son de gran ayuda para evaluar el rendimiento del modelo de regresión lineal al proporcionar información sobre la calidad de las predicciones y en cuanto el modelo a los datos reales."
   ]
  },
  {
   "cell_type": "markdown",
   "id": "3b2ccdac-d583-428f-97f4-d14b3d6b7529",
   "metadata": {
    "tags": []
   },
   "source": [
    "### Gráfica de dispersión ###"
   ]
  },
  {
   "cell_type": "code",
   "execution_count": 239,
   "id": "adf1a82c-5e9d-4de0-b7d7-7e3e0eed99fb",
   "metadata": {
    "tags": []
   },
   "outputs": [
    {
     "data": {
      "image/png": "[encoded data removed]",
      "text/plain": [
       "<Figure size 640x480 with 1 Axes>"
      ]
     },
     "metadata": {},
     "output_type": "display_data"
    }
   ],
   "source": [
    "plt.scatter(y_test, y_pred)\n",
    "plt.xlabel(\"Valores reales\")\n",
    "plt.ylabel(\"Predicciones\")\n",
    "plt.title(\"Valores reales vs. Predicciones\")\n",
    "plt.show()"
   ]
  },
  {
   "cell_type": "markdown",
   "id": "5fb98028-8fe3-49c9-a8fb-ca6697d57e6a",
   "metadata": {},
   "source": [
    "Este codigo nos permite visualizar de manera efectiva cómo se comparan los valores reales con las predicciones del modelo de regresión lineal. Esto es útil para evaluar visualmente el rendimiento del modelo y determinar si las predicciones se ajustan bien a los datos reales."
   ]
  },
  {
   "cell_type": "code",
   "execution_count": 250,
   "id": "55b644be-c6a0-4295-8a33-e7d268ea02b7",
   "metadata": {
    "tags": []
   },
   "outputs": [],
   "source": [
    "model = LinearRegression()\n",
    "X_train = X_train.values"
   ]
  },
  {
   "cell_type": "code",
   "execution_count": 251,
   "id": "17abe7c7-b6ce-4e4c-b73b-7755b2802542",
   "metadata": {
    "tags": []
   },
   "outputs": [
    {
     "name": "stdout",
     "output_type": "stream",
     "text": [
      "86\n",
      "86\n"
     ]
    }
   ],
   "source": [
    "print(len(X_train))\n",
    "print(len(y_train))"
   ]
  },
  {
   "cell_type": "markdown",
   "id": "d9f5cbf7-f826-407c-b0e6-717e5e4ba9bd",
   "metadata": {},
   "source": [
    "### Gráfica de dispersión de R^2 ###"
   ]
  },
  {
   "cell_type": "code",
   "execution_count": 252,
   "id": "6321c560-0f10-4134-b4f6-001c0c200b73",
   "metadata": {},
   "outputs": [
    {
     "name": "stdout",
     "output_type": "stream",
     "text": [
      "R-squared (R²): 0.9570721105859615\n"
     ]
    },
    {
     "data": {
      "image/png": "[encoded data removed]",
      "text/plain": [
       "<Figure size 640x480 with 1 Axes>"
      ]
     },
     "metadata": {},
     "output_type": "display_data"
    }
   ],
   "source": [
    "# Cargar tus datos y seleccionar las características y la variable objetivo\n",
    "X = df[['Height', 'Weight']]\n",
    "y = df['BMI']\n",
    "\n",
    "# Dividir los datos en conjuntos de entrenamiento y prueba\n",
    "X_train, X_test, y_train, y_test = train_test_split(X, y, test_size=0.2, random_state=42)\n",
    "\n",
    "# Crear y entrenar el modelo de regresión lineal\n",
    "model = LinearRegression()\n",
    "model.fit(X_train, y_train)\n",
    "\n",
    "# Hacer predicciones en el conjunto de prueba\n",
    "y_pred = model.predict(X_test)\n",
    "\n",
    "# Calcular el valor de R²\n",
    "r2 = r2_score(y_test, y_pred)\n",
    "print(f'R-squared (R²): {r2}')\n",
    "\n",
    "# Graficar la regresión lineal\n",
    "plt.scatter(y_test, y_pred)\n",
    "plt.xlabel(\"Valores reales\")\n",
    "plt.ylabel(\"Predicciones\")\n",
    "plt.title(\"Valores reales vs. Predicciones\")\n",
    "\n",
    "# Agregar una línea de referencia y=x\n",
    "plt.plot([min(y_test), max(y_test)], [min(y_test), max(y_test)], linestyle='--', color='red', linewidth=2)\n",
    "\n",
    "plt.show()\n"
   ]
  },
  {
   "cell_type": "markdown",
   "id": "5600a2b0-292b-4a40-92a2-8c9bafa1c12d",
   "metadata": {},
   "source": [
    "Este código se encarga de carga los datos, entrena un modelo de regresión lineal, realiza predicciones en un conjunto de prueba, calcula el coeficiente de determinación R² para evaluar el modelo y crea un gráfico de dispersión para visualizar cómo se comparan las predicciones con los valores reales. La línea de referencia ayuda a evaluar visualmente la calidad del modelo teniendo como resultado (R²): 0.9570721105859615. "
   ]
  },
  {
   "cell_type": "markdown",
   "id": "19f29604-1e19-4d87-9c6f-a09320f7c2eb",
   "metadata": {},
   "source": [
    "## Conclusión ##"
   ]
  },
  {
   "cell_type": "markdown",
   "id": "5eb6b847-1467-45ec-ae79-32e35793ac70",
   "metadata": {},
   "source": [
    "El análisis de regresión lineal en los datos de obesidad reveló cómo las variables como la edad, altura y peso se relacionan con el índice de masa corporal (BMI). El modelo de regresión lineal mostró un buen ajuste a los datos, con un coeficiente de determinación (R²) de 0.9570, lo que indica una alta capacidad de predicción. Aunque siempre hay margen para mejorar, este resultado es sólido. Estos modelos son herramientas valiosas para el diagnóstico y la comprensión de la obesidad, lo que puede tener un impacto positivo en la toma de decisiones médicas y las estrategias de salud pública"
   ]
  }
 ],
 "metadata": {
  "kernelspec": {
   "display_name": "Python 3 (ipykernel)",
   "language": "python",
   "name": "python3"
  },
  "language_info": {
   "codemirror_mode": {
    "name": "ipython",
    "version": 3
   },
   "file_extension": ".py",
   "mimetype": "text/x-python",
   "name": "python",
   "nbconvert_exporter": "python",
   "pygments_lexer": "ipython3",
   "version": "3.11.5"
  }
 },
 "nbformat": 4,
 "nbformat_minor": 5
}
